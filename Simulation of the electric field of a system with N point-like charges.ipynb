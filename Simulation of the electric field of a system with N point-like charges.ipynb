{
 "cells": [
  {
   "cell_type": "code",
   "execution_count": 1,
   "metadata": {},
   "outputs": [
    {
     "name": "stdout",
     "output_type": "stream",
     "text": [
      "Requirement already satisfied: mayavi in c:\\users\\mann\\anaconda3\\lib\\site-packages (4.8.2)\n",
      "Requirement already satisfied: apptools in c:\\users\\mann\\anaconda3\\lib\\site-packages (from mayavi) (5.3.0)\n",
      "Requirement already satisfied: envisage in c:\\users\\mann\\anaconda3\\lib\\site-packages (from mayavi) (7.0.3)\n",
      "Requirement already satisfied: numpy in c:\\users\\mann\\anaconda3\\lib\\site-packages (from mayavi) (1.26.4)\n",
      "Requirement already satisfied: pyface>=6.1.1 in c:\\users\\mann\\anaconda3\\lib\\site-packages (from mayavi) (8.0.0)\n",
      "Requirement already satisfied: pygments in c:\\users\\mann\\appdata\\roaming\\python\\python312\\site-packages (from mayavi) (2.18.0)\n",
      "Requirement already satisfied: traits>=6.0.0 in c:\\users\\mann\\anaconda3\\lib\\site-packages (from mayavi) (6.4.3)\n",
      "Requirement already satisfied: traitsui>=7.0.0 in c:\\users\\mann\\anaconda3\\lib\\site-packages (from mayavi) (8.0.0)\n",
      "Requirement already satisfied: packaging in c:\\users\\mann\\appdata\\roaming\\python\\python312\\site-packages (from mayavi) (24.1)\n",
      "Requirement already satisfied: vtk in c:\\users\\mann\\anaconda3\\lib\\site-packages (from mayavi) (9.3.1)\n",
      "Requirement already satisfied: setuptools in c:\\users\\mann\\anaconda3\\lib\\site-packages (from envisage->mayavi) (69.5.1)\n",
      "Requirement already satisfied: matplotlib>=2.0.0 in c:\\users\\mann\\anaconda3\\lib\\site-packages (from vtk->mayavi) (3.8.4)\n",
      "Requirement already satisfied: contourpy>=1.0.1 in c:\\users\\mann\\anaconda3\\lib\\site-packages (from matplotlib>=2.0.0->vtk->mayavi) (1.2.0)\n",
      "Requirement already satisfied: cycler>=0.10 in c:\\users\\mann\\anaconda3\\lib\\site-packages (from matplotlib>=2.0.0->vtk->mayavi) (0.11.0)\n",
      "Requirement already satisfied: fonttools>=4.22.0 in c:\\users\\mann\\anaconda3\\lib\\site-packages (from matplotlib>=2.0.0->vtk->mayavi) (4.51.0)\n",
      "Requirement already satisfied: kiwisolver>=1.3.1 in c:\\users\\mann\\anaconda3\\lib\\site-packages (from matplotlib>=2.0.0->vtk->mayavi) (1.4.4)\n",
      "Requirement already satisfied: pillow>=8 in c:\\users\\mann\\anaconda3\\lib\\site-packages (from matplotlib>=2.0.0->vtk->mayavi) (10.3.0)\n",
      "Requirement already satisfied: pyparsing>=2.3.1 in c:\\users\\mann\\anaconda3\\lib\\site-packages (from matplotlib>=2.0.0->vtk->mayavi) (3.0.9)\n",
      "Requirement already satisfied: python-dateutil>=2.7 in c:\\users\\mann\\appdata\\roaming\\python\\python312\\site-packages (from matplotlib>=2.0.0->vtk->mayavi) (2.9.0.post0)\n",
      "Requirement already satisfied: six>=1.5 in c:\\users\\mann\\appdata\\roaming\\python\\python312\\site-packages (from python-dateutil>=2.7->matplotlib>=2.0.0->vtk->mayavi) (1.16.0)\n",
      "Note: you may need to restart the kernel to use updated packages.\n"
     ]
    }
   ],
   "source": [
    "pip install mayavi"
   ]
  },
  {
   "cell_type": "code",
   "execution_count": 12,
   "metadata": {},
   "outputs": [],
   "source": [
    "import numpy as np\n",
    "from mayavi import mlab\n",
    "\n",
    "# Coulomb constant\n",
    "k = 9E9\n",
    "\n",
    "# Example: Define a system of n point charges with positions and magnitudes\n",
    "charges = [\n",
    "    {'pos': np.array([1.0, 0.0, 0.0]), 'q': 1E-9},   # Charge 1 at (1, 0, 0)\n",
    "    {'pos': np.array([-1.0, 0.0, 0.0]), 'q': -6E-9}, # Charge 2 at (-1, 0, 0)\n",
    "    {'pos': np.array([0.0, 1.0, 0.0]), 'q': 3E-9},   # Charge 3 at (0, 1, 0)\n",
    "    # Add more charges as needed\n",
    "]\n",
    "\n",
    "# Function to calculate the electric field at a given position due to all charges\n",
    "def electric_field(pos, charges):\n",
    "    E = np.zeros(3)\n",
    "    for charge in charges:\n",
    "        r = pos - charge['pos']\n",
    "        r_mag = np.linalg.norm(r)\n",
    "        if r_mag > 0.2:  # Omit vectors within a radius of 0.2 around each charge\n",
    "            E += k * charge['q'] * r / r_mag**3\n",
    "    return E\n",
    "\n",
    "# Create a 3D grid for plotting\n",
    "x, y, z = np.mgrid[-2:2:20j, -2:2:20j, -2:2:20j]\n",
    "\n",
    "# Compute the electric field on the grid\n",
    "Ex, Ey, Ez = np.zeros(x.shape), np.zeros(y.shape), np.zeros(z.shape)\n",
    "\n",
    "for i in range(x.shape[0]):\n",
    "    for j in range(y.shape[1]):\n",
    "        for k in range(z.shape[2]):\n",
    "            pos = np.array([x[i, j, k], y[i, j, k], z[i, j, k]])\n",
    "            E = electric_field(pos, charges)\n",
    "            Ex[i, j, k], Ey[i, j, k], Ez[i, j, k] = E[0], E[1], E[2]\n",
    "\n",
    "# Plot the vector field using Mayavi\n",
    "mlab.figure(size=(800, 800), bgcolor=(1, 1, 1))\n",
    "\n",
    "# Plot the electric field vectors\n",
    "mlab.quiver3d(x, y, z, Ex, Ey, Ez, color=(1, 0, 0), mode='arrow')\n",
    "\n",
    "# Plot the charge positions as spheres\n",
    "for charge in charges:\n",
    "    mlab.points3d(charge['pos'][0], charge['pos'][1], charge['pos'][2], scale_factor=0.1, color=(0, 0, 1))\n",
    "\n",
    "# Add title with black color\n",
    "mlab.title(\"Interactive 3D Electric Field Visualization for n Charges\", size=0.5, color=(0, 0, 0))\n",
    "\n",
    "# Add axes\n",
    "mlab.axes()\n",
    "\n",
    "# Lock the Z-axis to be stable during interaction\n",
    "mlab.view(azimuth=0, elevation=90, distance='auto', focalpoint=(0, 0, 0))\n",
    "\n",
    "# Show the plot\n",
    "mlab.show()\n"
   ]
  }
 ],
 "metadata": {
  "kernelspec": {
   "display_name": "base",
   "language": "python",
   "name": "python3"
  },
  "language_info": {
   "codemirror_mode": {
    "name": "ipython",
    "version": 3
   },
   "file_extension": ".py",
   "mimetype": "text/x-python",
   "name": "python",
   "nbconvert_exporter": "python",
   "pygments_lexer": "ipython3",
   "version": "3.12.3"
  }
 },
 "nbformat": 4,
 "nbformat_minor": 2
}
